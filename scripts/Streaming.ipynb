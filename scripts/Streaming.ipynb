{
 "cells": [
  {
   "cell_type": "code",
   "execution_count": 1,
   "metadata": {
    "ExecuteTime": {
     "end_time": "2018-06-25T21:42:23.759707Z",
     "start_time": "2018-06-25T21:42:23.751027Z"
    },
    "collapsed": true
   },
   "outputs": [],
   "source": [
    "import os \n",
    "os.environ['PYSPARK_SUBMIT_ARGS'] = '--jars spark-streaming-kafka-0-8-assembly_2.11-2.2.1.jar pyspark-shell'  \n"
   ]
  },
  {
   "cell_type": "code",
   "execution_count": 2,
   "metadata": {
    "ExecuteTime": {
     "end_time": "2018-06-25T21:42:23.770711Z",
     "start_time": "2018-06-25T21:42:23.762726Z"
    },
    "collapsed": true
   },
   "outputs": [],
   "source": [
    "from pyspark.streaming.kafka import KafkaUtils\n",
    "from pyspark import SparkContext\n",
    "from pyspark.streaming import StreamingContext\n",
    "import sys\n",
    "import json"
   ]
  },
  {
   "cell_type": "code",
   "execution_count": 3,
   "metadata": {
    "ExecuteTime": {
     "end_time": "2018-06-25T21:42:23.983610Z",
     "start_time": "2018-06-25T21:42:23.780355Z"
    },
    "collapsed": true
   },
   "outputs": [],
   "source": [
    "sc = SparkContext.getOrCreate()\n",
    "sc.stop()\n",
    "\n",
    "\n"
   ]
  },
  {
   "cell_type": "code",
   "execution_count": 4,
   "metadata": {
    "ExecuteTime": {
     "end_time": "2018-06-25T21:42:24.218849Z",
     "start_time": "2018-06-25T21:42:23.985701Z"
    },
    "collapsed": true
   },
   "outputs": [],
   "source": [
    "sc = SparkContext(appName = \"PythonStreamingReciever\")\n",
    "ssc = StreamingContext(sc, 5)"
   ]
  },
  {
   "cell_type": "code",
   "execution_count": 5,
   "metadata": {
    "ExecuteTime": {
     "end_time": "2018-06-25T21:42:24.469111Z",
     "start_time": "2018-06-25T21:42:24.220619Z"
    },
    "collapsed": true
   },
   "outputs": [],
   "source": [
    "kafkaStream = KafkaUtils.createStream(ssc, 'localhost:2181', 'spark-streaming',  {'province':1})\n",
    "lines = kafkaStream.map(lambda x:x[1])\n",
    "counts = lines.flatMap(lambda line:line.split(\" \")).map(lambda word:(word,1)).reduceByKey(lambda a,b:a+b)\n",
    "counts.pprint()"
   ]
  },
  {
   "cell_type": "code",
   "execution_count": 6,
   "metadata": {
    "ExecuteTime": {
     "end_time": "2018-06-25T21:42:25.657326Z",
     "start_time": "2018-06-25T21:42:24.470944Z"
    },
    "collapsed": true
   },
   "outputs": [],
   "source": [
    "from kafka import KafkaProducer\n",
    "producer = KafkaProducer(bootstrap_servers = 'localhost:9092')\n"
   ]
  },
  {
   "cell_type": "code",
   "execution_count": 7,
   "metadata": {
    "ExecuteTime": {
     "end_time": "2018-06-25T21:42:25.674856Z",
     "start_time": "2018-06-25T21:42:25.662223Z"
    },
    "collapsed": true
   },
   "outputs": [],
   "source": [
    "def process(rdd):\n",
    "    print(rdd)\n",
    "    message = json.dumps(rdd.map(lambda x:[str(x[0]),str(x[1])]).collect())\n",
    "\n",
    "    producer.send('result',  message.encode('utf-8'))\n"
   ]
  },
  {
   "cell_type": "code",
   "execution_count": 8,
   "metadata": {
    "ExecuteTime": {
     "end_time": "2018-06-25T21:42:25.819748Z",
     "start_time": "2018-06-25T21:42:25.681253Z"
    }
   },
   "outputs": [],
   "source": [
    "counts.foreachRDD(process)\n",
    "ssc.start()"
   ]
  },
  {
   "cell_type": "code",
   "execution_count": null,
   "metadata": {
    "collapsed": true
   },
   "outputs": [],
   "source": [
    "ssc.awaitTermination()"
   ]
  }
 ],
 "metadata": {
  "kernelspec": {
   "display_name": "Python 3",
   "language": "python",
   "name": "python3"
  },
  "language_info": {
   "codemirror_mode": {
    "name": "ipython",
    "version": 3
   },
   "file_extension": ".py",
   "mimetype": "text/x-python",
   "name": "python",
   "nbconvert_exporter": "python",
   "pygments_lexer": "ipython3",
   "version": "3.6.2"
  }
 },
 "nbformat": 4,
 "nbformat_minor": 2
}
