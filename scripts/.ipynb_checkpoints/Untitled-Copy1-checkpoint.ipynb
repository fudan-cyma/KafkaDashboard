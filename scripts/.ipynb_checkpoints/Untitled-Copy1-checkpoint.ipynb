{
 "cells": [
  {
   "cell_type": "code",
   "execution_count": 1,
   "metadata": {
    "ExecuteTime": {
     "end_time": "2018-06-14T21:53:58.519361Z",
     "start_time": "2018-06-14T21:53:58.512678Z"
    },
    "collapsed": true
   },
   "outputs": [],
   "source": [
    "import os  \n",
    "os.environ['PYSPARK_SUBMIT_ARGS'] = '--jars spark-streaming-kafka-0-8-assembly_2.11-2.2.1.jar pyspark-shell'  \n",
    "#os.environ['PYSPARK_SUBMIT_ARGS'] = '--packages org.apache.spark:spark-streaming-kafka-0-8_2.11:2.0.2 pyspark-shell'\n"
   ]
  },
  {
   "cell_type": "code",
   "execution_count": 2,
   "metadata": {
    "ExecuteTime": {
     "end_time": "2018-06-14T21:53:58.527052Z",
     "start_time": "2018-06-14T21:53:58.521491Z"
    },
    "collapsed": true
   },
   "outputs": [],
   "source": [
    "import sys"
   ]
  },
  {
   "cell_type": "code",
   "execution_count": 3,
   "metadata": {
    "ExecuteTime": {
     "end_time": "2018-06-14T21:53:58.535020Z",
     "start_time": "2018-06-14T21:53:58.529144Z"
    },
    "collapsed": true
   },
   "outputs": [],
   "source": [
    "from pyspark.streaming.kafka import KafkaUtils\n",
    "from pyspark import SparkContext\n",
    "from pyspark.streaming import StreamingContext\n",
    "import json"
   ]
  },
  {
   "cell_type": "code",
   "execution_count": 4,
   "metadata": {
    "ExecuteTime": {
     "end_time": "2018-06-14T21:53:59.144501Z",
     "start_time": "2018-06-14T21:53:58.536852Z"
    },
    "collapsed": true
   },
   "outputs": [],
   "source": [
    "sc = SparkContext.getOrCreate()\n",
    "sc.stop()"
   ]
  },
  {
   "cell_type": "code",
   "execution_count": 5,
   "metadata": {
    "ExecuteTime": {
     "end_time": "2018-06-14T21:53:59.344522Z",
     "start_time": "2018-06-14T21:53:59.149878Z"
    },
    "collapsed": true
   },
   "outputs": [],
   "source": [
    "sc = SparkContext(appName = \"PythonStreamingReciever\")"
   ]
  },
  {
   "cell_type": "code",
   "execution_count": 6,
   "metadata": {
    "ExecuteTime": {
     "end_time": "2018-06-14T21:53:59.426936Z",
     "start_time": "2018-06-14T21:53:59.346789Z"
    },
    "collapsed": true
   },
   "outputs": [],
   "source": [
    "ssc = StreamingContext(sc, 5)"
   ]
  },
  {
   "cell_type": "code",
   "execution_count": 7,
   "metadata": {
    "ExecuteTime": {
     "end_time": "2018-06-14T21:53:59.601800Z",
     "start_time": "2018-06-14T21:53:59.428539Z"
    },
    "collapsed": true
   },
   "outputs": [],
   "source": [
    "kafkaStream = KafkaUtils.createStream(ssc, 'localhost:2181', 'spark-streaming',  {'sex':1})"
   ]
  },
  {
   "cell_type": "code",
   "execution_count": 8,
   "metadata": {
    "ExecuteTime": {
     "end_time": "2018-06-14T21:53:59.606662Z",
     "start_time": "2018-06-14T21:53:59.603445Z"
    },
    "collapsed": true
   },
   "outputs": [],
   "source": [
    "lines = kafkaStream.map(lambda x:x[1])"
   ]
  },
  {
   "cell_type": "code",
   "execution_count": 9,
   "metadata": {
    "ExecuteTime": {
     "end_time": "2018-06-14T21:53:59.615413Z",
     "start_time": "2018-06-14T21:53:59.609205Z"
    }
   },
   "outputs": [],
   "source": [
    "counts = lines.flatMap(lambda line:line.split(\" \")).map(lambda word:(word,1)).reduceByKey(lambda a,b:a+b)\n",
    "#lines.count().map(lambda x: 'message is  %s' % x).pprint()\n",
    "#lines.pprint()"
   ]
  },
  {
   "cell_type": "code",
   "execution_count": 10,
   "metadata": {
    "ExecuteTime": {
     "end_time": "2018-06-14T21:53:59.621113Z",
     "start_time": "2018-06-14T21:53:59.617315Z"
    },
    "collapsed": true
   },
   "outputs": [],
   "source": [
    "#counts.pprint()"
   ]
  },
  {
   "cell_type": "code",
   "execution_count": 11,
   "metadata": {
    "ExecuteTime": {
     "end_time": "2018-06-14T21:54:00.820664Z",
     "start_time": "2018-06-14T21:53:59.626186Z"
    }
   },
   "outputs": [],
   "source": [
    "from kafka import KafkaProducer\n",
    "producer = KafkaProducer(bootstrap_servers = 'localhost:9092')\n"
   ]
  },
  {
   "cell_type": "code",
   "execution_count": 12,
   "metadata": {
    "ExecuteTime": {
     "end_time": "2018-06-14T21:54:00.831203Z",
     "start_time": "2018-06-14T21:54:00.825336Z"
    }
   },
   "outputs": [],
   "source": [
    "words = kafkaStream.flatMap(lambda line:line.split(\" \"))\n"
   ]
  },
  {
   "cell_type": "code",
   "execution_count": 13,
   "metadata": {
    "ExecuteTime": {
     "end_time": "2018-06-14T21:54:00.852603Z",
     "start_time": "2018-06-14T21:54:00.839358Z"
    }
   },
   "outputs": [],
   "source": [
    "def process(rdd):\n",
    "    print(rdd)\n",
    "    #summary = list()\n",
    "    #producer.send('result','miaomiaomiao'.encode('utf8'))\n",
    "    #producer.send('result',rdd.map(lambda x:[str(x[0]).encode('utf8'),str(x[1]).encode('utf8')].collect()))\n",
    "    for x in rdd.collect():\n",
    "        print(x)"
   ]
  },
  {
   "cell_type": "code",
   "execution_count": 14,
   "metadata": {
    "ExecuteTime": {
     "end_time": "2018-06-14T21:54:00.923006Z",
     "start_time": "2018-06-14T21:54:00.857790Z"
    }
   },
   "outputs": [],
   "source": [
    "counts.foreachRDD(process)"
   ]
  },
  {
   "cell_type": "code",
   "execution_count": 15,
   "metadata": {
    "ExecuteTime": {
     "end_time": "2018-06-14T21:54:01.033779Z",
     "start_time": "2018-06-14T21:54:00.924752Z"
    }
   },
   "outputs": [],
   "source": [
    "ssc.start()"
   ]
  },
  {
   "cell_type": "code",
   "execution_count": null,
   "metadata": {
    "collapsed": true
   },
   "outputs": [],
   "source": []
  }
 ],
 "metadata": {
  "kernelspec": {
   "display_name": "Python 3",
   "language": "python",
   "name": "python3"
  },
  "language_info": {
   "codemirror_mode": {
    "name": "ipython",
    "version": 3
   },
   "file_extension": ".py",
   "mimetype": "text/x-python",
   "name": "python",
   "nbconvert_exporter": "python",
   "pygments_lexer": "ipython3",
   "version": "3.6.2"
  }
 },
 "nbformat": 4,
 "nbformat_minor": 2
}
