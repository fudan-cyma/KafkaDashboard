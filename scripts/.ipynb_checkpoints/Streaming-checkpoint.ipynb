{
 "cells": [
  {
   "cell_type": "code",
   "execution_count": 1,
   "metadata": {
    "ExecuteTime": {
     "end_time": "2018-06-14T21:46:37.171323Z",
     "start_time": "2018-06-14T21:46:37.166441Z"
    },
    "collapsed": true
   },
   "outputs": [],
   "source": [
    "import os  \n",
    "os.environ['PYSPARK_SUBMIT_ARGS'] = '--jars spark-streaming-kafka-0-8-assembly_2.11-2.2.1.jar pyspark-shell'  \n",
    "#os.environ['PYSPARK_SUBMIT_ARGS'] = '--packages org.apache.spark:spark-streaming-kafka-0-8_2.11:2.0.2 pyspark-shell'\n"
   ]
  },
  {
   "cell_type": "code",
   "execution_count": 2,
   "metadata": {
    "ExecuteTime": {
     "end_time": "2018-06-14T21:46:37.179089Z",
     "start_time": "2018-06-14T21:46:37.173678Z"
    },
    "collapsed": true
   },
   "outputs": [],
   "source": [
    "import sys"
   ]
  },
  {
   "cell_type": "code",
   "execution_count": 3,
   "metadata": {
    "ExecuteTime": {
     "end_time": "2018-06-14T21:46:37.187212Z",
     "start_time": "2018-06-14T21:46:37.181094Z"
    },
    "collapsed": true
   },
   "outputs": [],
   "source": [
    "from pyspark.streaming.kafka import KafkaUtils\n",
    "from pyspark import SparkContext\n",
    "from pyspark.streaming import StreamingContext\n",
    "import json"
   ]
  },
  {
   "cell_type": "code",
   "execution_count": 4,
   "metadata": {
    "ExecuteTime": {
     "end_time": "2018-06-14T21:46:37.444529Z",
     "start_time": "2018-06-14T21:46:37.189376Z"
    },
    "collapsed": true
   },
   "outputs": [],
   "source": [
    "sc = SparkContext.getOrCreate()\n",
    "sc.stop()"
   ]
  },
  {
   "cell_type": "code",
   "execution_count": 5,
   "metadata": {
    "ExecuteTime": {
     "end_time": "2018-06-14T21:46:37.573655Z",
     "start_time": "2018-06-14T21:46:37.446342Z"
    },
    "collapsed": true
   },
   "outputs": [],
   "source": [
    "sc = SparkContext(appName = \"PythonStreamingReciever\")"
   ]
  },
  {
   "cell_type": "code",
   "execution_count": 6,
   "metadata": {
    "ExecuteTime": {
     "end_time": "2018-06-14T21:46:37.648563Z",
     "start_time": "2018-06-14T21:46:37.575261Z"
    },
    "collapsed": true
   },
   "outputs": [],
   "source": [
    "ssc = StreamingContext(sc, 5)"
   ]
  },
  {
   "cell_type": "code",
   "execution_count": 7,
   "metadata": {
    "ExecuteTime": {
     "end_time": "2018-06-14T21:46:37.829669Z",
     "start_time": "2018-06-14T21:46:37.649828Z"
    },
    "collapsed": true
   },
   "outputs": [],
   "source": [
    "kafkaStream = KafkaUtils.createStream(ssc, 'localhost:2181', 'spark-streaming',  {'sex':1})"
   ]
  },
  {
   "cell_type": "code",
   "execution_count": 8,
   "metadata": {
    "ExecuteTime": {
     "end_time": "2018-06-14T21:46:37.834534Z",
     "start_time": "2018-06-14T21:46:37.831073Z"
    },
    "collapsed": true
   },
   "outputs": [],
   "source": [
    "lines = kafkaStream.map(lambda x:x[1])"
   ]
  },
  {
   "cell_type": "code",
   "execution_count": 9,
   "metadata": {
    "ExecuteTime": {
     "end_time": "2018-06-14T21:46:37.846667Z",
     "start_time": "2018-06-14T21:46:37.836597Z"
    }
   },
   "outputs": [],
   "source": [
    "counts = lines.flatMap(lambda line:line.split(\" \")).map(lambda word:(word,1)).reduceByKey(lambda a,b:a+b)\n",
    "#lines.count().map(lambda x: 'message is  %s' % x).pprint()\n",
    "#lines.pprint()"
   ]
  },
  {
   "cell_type": "code",
   "execution_count": 10,
   "metadata": {
    "ExecuteTime": {
     "end_time": "2018-06-14T21:46:37.852190Z",
     "start_time": "2018-06-14T21:46:37.849282Z"
    },
    "collapsed": true
   },
   "outputs": [],
   "source": [
    "#counts.pprint()"
   ]
  },
  {
   "cell_type": "code",
   "execution_count": 11,
   "metadata": {
    "ExecuteTime": {
     "end_time": "2018-06-14T21:46:39.054052Z",
     "start_time": "2018-06-14T21:46:37.858120Z"
    }
   },
   "outputs": [],
   "source": [
    "from kafka import KafkaProducer\n",
    "producer = KafkaProducer(bootstrap_servers = 'localhost:9092')\n"
   ]
  },
  {
   "cell_type": "code",
   "execution_count": 12,
   "metadata": {
    "ExecuteTime": {
     "end_time": "2018-06-14T21:46:39.065787Z",
     "start_time": "2018-06-14T21:46:39.058862Z"
    }
   },
   "outputs": [],
   "source": [
    "words = kafkaStream.flatMap(lambda line:line.split(\" \"))\n"
   ]
  },
  {
   "cell_type": "code",
   "execution_count": 13,
   "metadata": {
    "ExecuteTime": {
     "end_time": "2018-06-14T21:46:39.091851Z",
     "start_time": "2018-06-14T21:46:39.072993Z"
    }
   },
   "outputs": [],
   "source": [
    "def process(rdd):\n",
    "    print(rdd)\n",
    "    #summary = list()\n",
    "    #producer.send('result','miaomiaomiao'.encode('utf8'))\n",
    "    producer.send('result',rdd.map(lambda x:[str(x[0]).encode('utf8'),str(x[1]).encode('utf8')].collect()))\n",
    "    #for x in rdd.collect():\n",
    "    #    print(x)"
   ]
  },
  {
   "cell_type": "code",
   "execution_count": 14,
   "metadata": {
    "ExecuteTime": {
     "end_time": "2018-06-14T21:46:39.164083Z",
     "start_time": "2018-06-14T21:46:39.096777Z"
    }
   },
   "outputs": [],
   "source": [
    "counts.foreachRDD(process)"
   ]
  },
  {
   "cell_type": "code",
   "execution_count": 15,
   "metadata": {
    "ExecuteTime": {
     "end_time": "2018-06-14T21:46:39.266237Z",
     "start_time": "2018-06-14T21:46:39.166151Z"
    }
   },
   "outputs": [],
   "source": [
    "ssc.start()"
   ]
  },
  {
   "cell_type": "code",
   "execution_count": null,
   "metadata": {
    "collapsed": true
   },
   "outputs": [],
   "source": []
  }
 ],
 "metadata": {
  "kernelspec": {
   "display_name": "Python 3",
   "language": "python",
   "name": "python3"
  },
  "language_info": {
   "codemirror_mode": {
    "name": "ipython",
    "version": 3
   },
   "file_extension": ".py",
   "mimetype": "text/x-python",
   "name": "python",
   "nbconvert_exporter": "python",
   "pygments_lexer": "ipython3",
   "version": "3.6.2"
  }
 },
 "nbformat": 4,
 "nbformat_minor": 2
}
